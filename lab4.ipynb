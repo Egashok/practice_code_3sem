{
 "cells": [
  {
   "cell_type": "code",
   "execution_count": 4,
   "id": "6a52a328",
   "metadata": {},
   "outputs": [],
   "source": [
    "import math\n",
    "import matplotlib.pyplot as plt\n",
    "import  matplotlib\n",
    "import numpy as np\n",
    "\n",
    "from scipy import linalg, stats\n"
   ]
  },
  {
   "cell_type": "code",
   "execution_count": 5,
   "id": "2dd7325c",
   "metadata": {},
   "outputs": [],
   "source": [
    "def f(x):\n",
    "    return math.sin(math.sqrt(2 * x))"
   ]
  },
  {
   "cell_type": "markdown",
   "id": "a64efbfd",
   "metadata": {},
   "source": [
    "# Solution 1"
   ]
  },
  {
   "cell_type": "code",
   "execution_count": 6,
   "id": "e46908c8",
   "metadata": {},
   "outputs": [
    {
     "ename": "SyntaxError",
     "evalue": "invalid syntax (3131684203.py, line 7)",
     "output_type": "error",
     "traceback": [
      "\u001b[1;36m  Cell \u001b[1;32mIn[6], line 7\u001b[1;36m\u001b[0m\n\u001b[1;33m    points.append(a)-\u001b[0m\n\u001b[1;37m                     ^\u001b[0m\n\u001b[1;31mSyntaxError\u001b[0m\u001b[1;31m:\u001b[0m invalid syntax\n"
     ]
    }
   ],
   "source": [
    "a,b=0,1\n",
    "step=(b-a)/50\n",
    "\n",
    "answer = []\n",
    "points = []\n",
    "while a < b:\n",
    "    points.append(a)-\n",
    "    answer.append(f(a))\n",
    "    a += step"
   ]
  },
  {
   "cell_type": "markdown",
   "id": "92ca46bd",
   "metadata": {},
   "source": [
    "# Solution 2"
   ]
  },
  {
   "cell_type": "code",
   "execution_count": null,
   "id": "c02533e8",
   "metadata": {},
   "outputs": [],
   "source": [
    "plt.title('My function (2 solution)',fontsize=24)\n",
    "plt.plot(points,answer)\n",
    "SMALL_SIZE = 8\n",
    "MEDIUM_SIZE = 10\n",
    "\n",
    "plt.rc('font', size=SMALL_SIZE)\n",
    "plt.rc('axes', titlesize=SMALL_SIZE)\n",
    "plt.rc('axes', labelsize=MEDIUM_SIZE)\n",
    "plt.rc('legend', fontsize=MEDIUM_SIZE)\n",
    "\n",
    "\n",
    "plt.legend(['math.sin(math.sqrt(2 * x))'])\n",
    "plt.ylabel('y(answers)')\n",
    "plt.xlabel('x(points)')\n",
    "\n",
    "plt.show()"
   ]
  },
  {
   "cell_type": "markdown",
   "id": "ea8275b1",
   "metadata": {},
   "source": [
    "# Solution 3"
   ]
  },
  {
   "cell_type": "code",
   "execution_count": null,
   "id": "5c3a4769",
   "metadata": {
    "scrolled": false
   },
   "outputs": [],
   "source": [
    " plt.plot(points, answer,marker='.', markerfacecolor=[1, 0, 0, 1], markersize=10)\n",
    "plt.title('My function (3 solution)')\n",
    "plt.grid(color=([0.3,0.2,1]), linestyle='--', linewidth=0.5, alpha=0.7)\n",
    "\n",
    "plt.ylabel('y(answers)')\n",
    "plt.xlabel('x(points)')\n",
    "\n",
    "plt.show()\n"
   ]
  },
  {
   "cell_type": "markdown",
   "id": "6a5cbd73",
   "metadata": {},
   "source": [
    "# Solution 4"
   ]
  },
  {
   "cell_type": "code",
   "execution_count": null,
   "id": "c9568bbe",
   "metadata": {},
   "outputs": [],
   "source": [
    "  fig, axs = plt.subplots(1, 2, figsize=(9, 3), sharey=True)\n",
    "\n",
    "sample1 = stats.norm.rvs(size=100)\n",
    "axs[0].hist(sample1, bins=30, color='blue')\n",
    "axs[0].set_title('Normal')\n",
    "\n",
    "\n",
    "sample2 = stats.uniform.rvs(size=100)\n",
    "axs[1].hist(sample2, bins=20, color='red')\n",
    "axs[1].set_title('Uniform')\n",
    "\n",
    "plt.show()"
   ]
  },
  {
   "cell_type": "markdown",
   "id": "1cd25766",
   "metadata": {},
   "source": [
    "# Solution 5"
   ]
  },
  {
   "cell_type": "code",
   "execution_count": null,
   "id": "6e65ef96",
   "metadata": {},
   "outputs": [],
   "source": [
    "fig, axs = plt.subplots(1, 2, figsize=(9, 3))\n",
    "\n",
    "sample =  np.random.randint(1, 5, size=50)\n",
    "count_numbers = np.bincount(sample)\n",
    "colors = ['yellow', 'green', 'blue', 'red']\n",
    "axs[0].pie(count_numbers[1:], labels=['1', '2', '3', '4'], colors=colors, autopct='%1.1f%%', startangle=140)\n",
    "axs[0].set_title('Круговая диаграмма  ')\n",
    "\n",
    "axs[1].bar(['1', '2', '3', '4'], count_numbers[1:], color=colors)\n",
    "axs[1].set_title('Столбчатая диаграмма  ');\n",
    "\n",
    "plt.show()"
   ]
  },
  {
   "cell_type": "markdown",
   "id": "70f2daa9",
   "metadata": {},
   "source": [
    "# Solution 6"
   ]
  },
  {
   "cell_type": "code",
   "execution_count": null,
   "id": "b2224c0f",
   "metadata": {},
   "outputs": [],
   "source": [
    "def func(x,y):\n",
    "    return (x+3)**3+(y-3)**2\n",
    "\n",
    "x = np.random.random(5)\n",
    "y = np.random.random(5)\n",
    "\n",
    "fig = plt.figure()\n",
    "ax = fig.add_subplot(111, projection='3d')\n",
    "ax.plot(x,y, func(x,y), color=[1, 0, 0, 1])\n",
    "\n",
    "ax.set_xlabel('x')\n",
    "ax.set_ylabel('y')\n",
    "ax.set_zlabel('f(x)')\n",
    "ax.set_title('Трехмерный график')\n",
    "\n",
    "plt.show()"
   ]
  },
  {
   "cell_type": "markdown",
   "id": "d392cc9e",
   "metadata": {},
   "source": [
    "# Solution 7"
   ]
  },
  {
   "cell_type": "code",
   "execution_count": null,
   "id": "e6c3574c",
   "metadata": {},
   "outputs": [],
   "source": [
    "def multi(style='default'):\n",
    "  \n",
    "    plt.style.use(style)\n",
    "    fig = plt.figure(figsize=(10,10))\n",
    "    fig.suptitle(\"Solution 7\")\n",
    "    ax1 = fig.add_subplot(2, 2, 1)\n",
    "    ax1.plot(points, answer)\n",
    "    ax1.set_title('Solution 2  ')\n",
    "\n",
    "    ax2 = fig.add_subplot(2, 2, 2)\n",
    "    ax2.plot(points, answer, marker='.', markerfacecolor=[1, 0, 0, 1], markersize=10)\n",
    "    ax2.set_title('My function (3 solution)')\n",
    "    ax2.grid(color='gray', linestyle='--', linewidth=0.5, alpha=0.7)\n",
    "\n",
    "    ax3 = fig.add_subplot(2, 2, 3)\n",
    "    sample =  np.random.randint(1, 5, size=50)\n",
    "    count_numbers = np.bincount(sample)\n",
    "    colors = ['yellow', 'green', 'blue', 'red']\n",
    "    ax3.pie(count_numbers[1:], labels=['1', '2', '3', '4'], colors=colors, autopct='%1.1f%%', startangle=140)\n",
    "    ax3.set_title('Круговая диаграмма  ')\n",
    "\n",
    "    x = np.random.random(5)\n",
    "    y = np.random.random(5)\n",
    "\n",
    "    ax4 = fig.add_subplot(2, 2, 4, projection='3d')\n",
    "\n",
    "    ax4.plot(x, y, func(x, y), color=[1, 0, 0, 1])\n",
    "\n",
    "    ax4.set_xlabel('x')\n",
    "    ax4.set_ylabel('y')\n",
    "    ax4.set_zlabel('f(x)')\n",
    "    ax4.set_title('Трехмерный график')\n",
    "    ax4.set_facecolor('pink')\n",
    " \n",
    "    \n",
    "\n",
    "\n",
    "    plt.show()\n",
    "multi()"
   ]
  },
  {
   "cell_type": "markdown",
   "id": "56c2b55b",
   "metadata": {},
   "source": [
    "# Solution 8"
   ]
  },
  {
   "cell_type": "code",
   "execution_count": null,
   "id": "20b36150",
   "metadata": {},
   "outputs": [],
   "source": [
    "multi('ggplot')"
   ]
  },
  {
   "cell_type": "code",
   "execution_count": null,
   "id": "98da09c4",
   "metadata": {},
   "outputs": [],
   "source": [
    "multi('dark_background')\n"
   ]
  },
  {
   "cell_type": "code",
   "execution_count": null,
   "id": "b59e5542",
   "metadata": {},
   "outputs": [],
   "source": [
    "multi('grayscale')"
   ]
  },
  {
   "cell_type": "code",
   "execution_count": null,
   "id": "7fa2d2f5",
   "metadata": {},
   "outputs": [],
   "source": []
  },
  {
   "cell_type": "code",
   "execution_count": null,
   "id": "00cecc45",
   "metadata": {},
   "outputs": [],
   "source": []
  }
 ],
 "metadata": {
  "kernelspec": {
   "display_name": "Python 3 (ipykernel)",
   "language": "python",
   "name": "python3"
  },
  "language_info": {
   "codemirror_mode": {
    "name": "ipython",
    "version": 3
   },
   "file_extension": ".py",
   "mimetype": "text/x-python",
   "name": "python",
   "nbconvert_exporter": "python",
   "pygments_lexer": "ipython3",
   "version": "3.11.4"
  }
 },
 "nbformat": 4,
 "nbformat_minor": 5
}
